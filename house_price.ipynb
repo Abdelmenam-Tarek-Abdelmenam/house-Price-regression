{
 "cells": [
  {
   "cell_type": "markdown",
   "metadata": {},
   "source": [
    "# House Prices \n",
    "<h4 style=\"color:red;\">  use regression to Predict sales prices  </h4>"
   ]
  },
  {
   "cell_type": "code",
   "execution_count": 110,
   "metadata": {},
   "outputs": [],
   "source": [
    "# import needed libraries \n",
    "\n",
    "import numpy as np\n",
    "import pandas as pd\n",
    "import matplotlib.pyplot as plt\n",
    "import seaborn as sns\n",
    "\n",
    "from sklearn.linear_model import LinearRegression \n",
    "from sklearn.preprocessing import StandardScaler \n",
    "from sklearn.model_selection import train_test_split \n",
    "\n",
    "%matplotlib inline"
   ]
  },
  {
   "cell_type": "markdown",
   "metadata": {},
   "source": [
    "##### read the data "
   ]
  },
  {
   "cell_type": "code",
   "execution_count": 111,
   "metadata": {},
   "outputs": [
    {
     "data": {
      "text/plain": [
       "(1460, 81)"
      ]
     },
     "execution_count": 111,
     "metadata": {},
     "output_type": "execute_result"
    }
   ],
   "source": [
    "train_data = pd.read_csv('train.csv')\n",
    "train_data.shape"
   ]
  },
  {
   "cell_type": "markdown",
   "metadata": {},
   "source": [
    "# prepare the data "
   ]
  },
  {
   "cell_type": "code",
   "execution_count": 113,
   "metadata": {},
   "outputs": [
    {
     "data": {
      "text/plain": [
       "((1460, 75), (1460,))"
      ]
     },
     "execution_count": 113,
     "metadata": {},
     "output_type": "execute_result"
    }
   ],
   "source": [
    "X = train_data.drop('SalePrice' , axis=1)\n",
    "y = train_data['SalePrice']\n",
    "\n",
    "\n",
    "# make a function to clean the data to help me in the  test data\n",
    "def clean(df) :\n",
    "\n",
    "    # delete id column\n",
    "    df.drop('Id' , inplace=True , axis=1)\n",
    "\n",
    "    # delete columns that have null values more than 1000 \n",
    "    to_null = df.isnull().sum()[df.isnull().sum() >1000].index.tolist()\n",
    "    df.drop(to_null , inplace=True , axis=1)\n",
    "    \n",
    "    # get all string column\n",
    "    string_cols = df.select_dtypes('object').columns\n",
    "    # get the most frequent value in all string columns\n",
    "    mode_values = df[string_cols].mode().iloc[0].values\n",
    "    \n",
    "    for col,ele in zip(string_cols , mode_values) :\n",
    "    #fill the null with the mode\n",
    "        df[col] = df[col].fillna(ele)\n",
    "        df[col] = df[col].astype('category').cat.codes\n",
    "  \n",
    "    # replace the integer nan values with the mean\n",
    "    df.fillna(df.mean() , inplace=True)\n",
    "    \n",
    "    # data scaing to z scores\n",
    "    scaler = StandardScaler() \n",
    "    scaler.fit(df)\n",
    "    X = scaler.transform(df)\n",
    "    \n",
    "    return df \n",
    "\n",
    "X = clean(X)\n",
    "\n",
    "X.shape , y.shape"
   ]
  },
  {
   "cell_type": "markdown",
   "metadata": {},
   "source": [
    "# train the regression model"
   ]
  },
  {
   "cell_type": "code",
   "execution_count": 115,
   "metadata": {},
   "outputs": [
    {
     "name": "stdout",
     "output_type": "stream",
     "text": [
      "Linear Regression Train Score is :  0.8530279082833657\n",
      "Linear Regression Test Score is :  0.8226290552387828\n"
     ]
    }
   ],
   "source": [
    "\n",
    "# split the data \n",
    "X_train, X_test, y_train, y_test = train_test_split(X, y, test_size=0.33, random_state=44, shuffle =True) \n",
    "\n",
    "\n",
    "# build the model\n",
    "LinearRegressionModel = LinearRegression(fit_intercept=True , n_jobs=-1) \n",
    "LinearRegressionModel.fit(X_train, y_train) \n",
    "\n",
    "print('Linear Regression Train Score is : ' , LinearRegressionModel.score(X_train, y_train)) \n",
    "print('Linear Regression Test Score is : ' , LinearRegressionModel.score(X_test, y_test))\n",
    " "
   ]
  },
  {
   "cell_type": "markdown",
   "metadata": {},
   "source": [
    "# read the test data file\n"
   ]
  },
  {
   "cell_type": "code",
   "execution_count": 129,
   "metadata": {},
   "outputs": [
    {
     "data": {
      "text/plain": [
       "(1459, 80)"
      ]
     },
     "execution_count": 129,
     "metadata": {},
     "output_type": "execute_result"
    }
   ],
   "source": [
    "test_data = pd.read_csv(\"test.csv\")\n",
    "test_data.shape"
   ]
  },
  {
   "cell_type": "markdown",
   "metadata": {},
   "source": [
    "# make the submission file\n"
   ]
  },
  {
   "cell_type": "code",
   "execution_count": 127,
   "metadata": {},
   "outputs": [],
   "source": [
    "submit = pd.DataFrame(columns = ['Id' , 'SalePrice'])\n",
    "submit['Id'] = test_data['Id']\n",
    "X_TEST = clean(test_data)\n",
    "submit['SalePrice'] = LinearRegressionModel.predict(X_TEST)\n",
    "\n",
    "submit.to_csv('submission.csv' , index=False)"
   ]
  }
 ],
 "metadata": {
  "kernelspec": {
   "display_name": "Python 3",
   "language": "python",
   "name": "python3"
  },
  "language_info": {
   "codemirror_mode": {
    "name": "ipython",
    "version": 3
   },
   "file_extension": ".py",
   "mimetype": "text/x-python",
   "name": "python",
   "nbconvert_exporter": "python",
   "pygments_lexer": "ipython3",
   "version": "3.8.3"
  }
 },
 "nbformat": 4,
 "nbformat_minor": 4
}
